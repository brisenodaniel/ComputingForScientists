{
 "cells": [
  {
   "cell_type": "markdown",
   "metadata": {},
   "source": [
    "# Bash Cheat Sheet #\n",
    "Daniel Briseno Servin\n",
    "\n",
    "SID: 2282050\n",
    "\n",
    "Used [Bash-Guide.pdf](https://github.com/CS-510-Fall-2020/CourseInfoFall2020/blob/master/LectureNotes/02-LinuxBash/Bash-Guide.pdf) at course github page.\n",
    "\n",
    "Used `awk` [tutorial](https://www.tutorialspoint.com/unix_commands/awk.htm) by Tutorials Point\n",
    "## Commands ##\n",
    "- `man <cmd>`: \"MANual\", Prints documentation of the given command\n",
    "- `pwd`: \"Print Working Directory\", prints the path of the directory in which the shell is currently executing\n",
    "- `ls`: Lists all file and subdirectory names in current directory.\n",
    "    - Important Flags:\n",
    "        - `-l`: \"long\", lists additional information about each file\n",
    "        - `-a`: \"all\", lists all files and subdirectories in current direcotry, even hidden ones\n",
    "- `cd <directory path>`: \"Change Directory\", changes current directory to given path\n",
    "    - For relative paths, use `.` to signify the current directory, `..` to signify one directory above the current directory\n",
    "- `mkdir <new directory name>`: \"MaKe, DIRectory\", creates a new, empty directory with the given name\n",
    "- `cp <file path> <copy file path>`: \"CoPy\", copies the file at the leftmost file path to a new file at the rightmost file path.\n",
    "- `mv <file path 1> <file path 2>`: \"MoVe\", moves the file at the leftmost file path to the rightmost file path. Note that the rightmost file path need only specify a directory, not a file name. \n",
    "    - `mv` can also be used to change the name of a file within the same directory:\n",
    "        - `mv foobar.txt boobar.txt` changes the name of `foobar.txt` to `boobar.txt`.\n",
    "- `rm <file path>`: \"ReMove\", permanently deletes the file at the given filepath from the disk.\n",
    "    - `-r` flag: \"Recursive\", used to recursivley delete directories. \n",
    "    - `-f` flag: \"Force\", removes protected files when `rm` is denied permission. \n",
    "- `cat <file path>`: prints contents of given file to the bash shell\n",
    "- `head <file path>`: prints out first 10 lines of given file to the bash shell\n",
    "- `tail <file path>`: prints out last 10 lines of given file to the bash shell\n",
    "- `more <file path>`: prints contents of given file in sections.\n",
    "    - Down arrow will advance printed content by one line down, up arrow will go up one line towards the beginning of the file\n",
    "    - `d` will advance one page down \n",
    "    - `f` will reverse one page up.\n",
    "    - `b` will take cursor to beginning of file\n",
    "    - `q` will exit the file viewing enviornment\n",
    "- `cut`: Cuts a file along specified column or other specification\n",
    "    - `-f <Index:int>`: flag preceding column index to cut by \n",
    "    - `-d <delimeter:char>`: what character to cut by other than the default tab\n",
    "- `grep <regex> <file path>`: returns all lines of the given file which match the regex\n",
    "- `awk <program> <input file 1> [input file]*`: Searches through input files for lines with patterns specified in `<program>`, then executes the instructions of `<program>` at those lines\n",
    "\n",
    "## Operators ##\n",
    "- `output > destination`: sends output to a new destination file\n",
    "    - `cat foobar.txt > foobar(1).txt` sends the contents of \"foobar.txt\" to \"foobar(1).txt\"\n",
    "- `output >> destination`: same functionality as `>`, but if destination file already exists it appends the output to the contents of destination\n",
    "- `output >| destination`: same functionality as `>`, but if destination file already exists it over-writes the contents of destination with output\n",
    "- `cmd_1 | cmd_2`: Pipes `cmd_1` into `cmd_2`, then prints the output of the joint operation\n",
    "- `cmd_1 ; cmd_2`: Runs `cmd_1` and `cmd_2` serially\n",
    "- `cmd_1 & cmd_2`: Runs `cmd_1` and `cmd_2` in parallel, with `cmd_1` in the background and `cmd_2` in the foreground\n",
    "## File Path Characters ##\n",
    "- `~`: signifies the home directory\n",
    "- `.`: signifies current directory\n",
    "- `..`: signifies one directory up\n",
    "- `*`: wildcard"
   ]
  },
  {
   "cell_type": "code",
   "execution_count": null,
   "metadata": {},
   "outputs": [],
   "source": []
  }
 ],
 "metadata": {
  "kernelspec": {
   "display_name": "Python 3",
   "language": "python",
   "name": "python3"
  },
  "language_info": {
   "codemirror_mode": {
    "name": "ipython",
    "version": 3
   },
   "file_extension": ".py",
   "mimetype": "text/x-python",
   "name": "python",
   "nbconvert_exporter": "python",
   "pygments_lexer": "ipython3",
   "version": "3.7.4"
  }
 },
 "nbformat": 4,
 "nbformat_minor": 4
}
